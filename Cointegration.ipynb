{
 "cells": [
  {
   "cell_type": "code",
   "execution_count": 1,
   "metadata": {},
   "outputs": [],
   "source": [
    "import numpy as np\n",
    "import pandas as pd\n",
    "# import statsmodels\n",
    "import statsmodels.api as sm\n",
    "from statsmodels.tsa.stattools import coint, adfuller\n",
    "\n",
    "import matplotlib.pyplot as plt\n",
    "# import seaborn as sns; sns.set(style=\"whitegrid\")\n",
    "import seaborn\n",
    "import warnings\n",
    "warnings.filterwarnings('ignore')"
   ]
  },
  {
   "cell_type": "code",
   "execution_count": 2,
   "metadata": {},
   "outputs": [],
   "source": [
    "def find_cointegrated_pairs(date1, date2):\n",
    "    df = pd.read_csv('cleanest_data_ever.csv', index_col = 'Date')\n",
    "    data = df.loc[date1 : date2]\n",
    "    n = data.shape[1]\n",
    "    score_matrix = np.zeros((n, n))\n",
    "    pvalue_matrix = np.ones((n, n))\n",
    "    keys = data.keys()\n",
    "    pairs = []\n",
    "    for i in range(n):\n",
    "        for j in range(i+1, n):\n",
    "            S1 = data[keys[i]]\n",
    "            S2 = data[keys[j]]\n",
    "            result = coint(S1, S2)\n",
    "            score = result[0]\n",
    "            pvalue = result[1]\n",
    "            score_matrix[i, j] = score\n",
    "            pvalue_matrix[i, j] = pvalue\n",
    "            if pvalue < 0.05:\n",
    "                pairs.append([keys[i], keys[j]])\n",
    "    return score_matrix, pvalue_matrix, pairs"
   ]
  },
  {
   "cell_type": "code",
   "execution_count": 3,
   "metadata": {},
   "outputs": [],
   "source": [
    "# date format: year-month-day\n",
    "def slicing_formation(date1, date2):\n",
    "    df = pd.read_csv('cleanest_data_ever.csv', index_col = 'Date')\n",
    "    dta = df.loc[date1:date2]\n",
    "    return(dta)\n",
    "def slicing_trading(dta1, dta2):\n",
    "    df = pd.read_csv('cleanest_data_ever.csv', index_col = 'Date')\n",
    "    dta = df.loc[dta1 : dta2]\n",
    "    return(dta)\n",
    "def normalizing(data): # input: sliced dataset, output: normalized dataset\n",
    "    df = pd.DataFrame(index = data.index, columns = data.columns)\n",
    "    for i in df.columns:\n",
    "        df[i][0] = 1\n",
    "        for j in range(1, len(df)):\n",
    "            df[i][j] = data[i][j] / data[i][0]\n",
    "    return(df)\n",
    "def ssd(col1, col2):\n",
    "    s = (col1 - col2)**2\n",
    "    ssd = s.sum()\n",
    "    return(ssd)\n",
    "def ssd_matrix(dta): # input normalized dataset\n",
    "    matrix = pd.DataFrame(index = dta.columns, columns = dta.columns)\n",
    "    for i in matrix.index:\n",
    "        for j in matrix.columns:\n",
    "            if i != j:\n",
    "                matrix.loc[i,j] = ssd(dta[i], dta[j])\n",
    "    return(matrix)\n",
    "def min_values(matrix): # input: ssd matrix\n",
    "    minimums = []\n",
    "    for i in matrix.index:\n",
    "        for j in matrix.columns:\n",
    "            minimums.append(matrix.loc[i,j])\n",
    "    minimums.remove(minimums[0])\n",
    "    minimums = list(dict.fromkeys(minimums))\n",
    "    minimums.sort()\n",
    "    \n",
    "#     minimums_complete = []\n",
    "#     while len(minimums_complete) < 10:\n",
    "#         minimum = min(minimums)\n",
    "#         minimums.remove(minimum)\n",
    "#         minimums_complete.append(minimum)\n",
    "#     min_set = set(minimums_complete)\n",
    "#     list_min = list(min_set)\n",
    "    return(minimums)\n",
    "def standard_deviation(col1,col2):\n",
    "    series = col1 - col2\n",
    "    std = stat.stdev(series)\n",
    "    return(std)"
   ]
  },
  {
   "cell_type": "code",
   "execution_count": 4,
   "metadata": {},
   "outputs": [],
   "source": [
    "def forming_pairs(date1, date2):\n",
    "    dataframe = slicing_formation(date1, date2)\n",
    "    norm_dataframe = normalizing(dataframe)\n",
    "    coef_matrix = ssd_matrix(norm_dataframe)\n",
    "    coef_list = min_values(coef_matrix)\n",
    "    return(coef_matrix, coef_list)\n",
    "def pair_tickers(coeff_matrix, coeff_list):\n",
    "    pair_names = []\n",
    "    for c in coeff_list:\n",
    "        for i in coeff_matrix.index:\n",
    "            for j in coeff_matrix.columns:\n",
    "                if coeff_matrix.loc[i,j] == c:\n",
    "                    names = [i,j]\n",
    "                    pair_names.append(names)\n",
    "#     unique_pairs = []\n",
    "#     for r in (0,2,4,6,8):\n",
    "#         unique_pairs.append(pair_names[r])\n",
    "    for i in pair_names:\n",
    "        pair_names.remove([i[1], i[0]])\n",
    "    return(pair_names)"
   ]
  },
  {
   "cell_type": "code",
   "execution_count": 5,
   "metadata": {},
   "outputs": [],
   "source": [
    "def coint_pairs(date1, date2, x):\n",
    "    sd_mat, sd_coef = forming_pairs(date1, date2)\n",
    "    sd_pairs = pair_tickers(sd_mat, sd_coef)\n",
    "    _, _, coint_pairs = find_cointegrated_pairs(date1, date2)\n",
    "    pairs = []\n",
    "    for i in sd_pairs:\n",
    "        pair1 = i[0]\n",
    "        pair2 = i[1]\n",
    "        if [pair1, pair2] in coint_pairs or [pair2, pair1] in coint_pairs: \n",
    "            pairs.append(i)\n",
    "        else:\n",
    "            pass\n",
    "    return(pairs[:x])\n",
    "    \n"
   ]
  },
  {
   "cell_type": "code",
   "execution_count": 6,
   "metadata": {},
   "outputs": [],
   "source": [
    "def spread_stat(date1, date2, pair1, pair2): # dates are for the formation period\n",
    "    df = pd.read_csv('cleanest_data_ever.csv', index_col = 'Date')\n",
    "    dta = df.loc[date1 : date2]\n",
    "    data = dta.divide(dta.loc[date1])\n",
    "    s1 = data[pair1]\n",
    "    s2 = data[pair2]\n",
    "    \n",
    "    s1 = sm.add_constant(s1)\n",
    "    results = sm.OLS(s2, s1).fit()\n",
    "    s1 = s1[pair1]\n",
    "    b = results.params[pair1]\n",
    "    \n",
    "    spread = s2 - b * s1\n",
    "    std = spread.std()\n",
    "    mean = spread.mean()\n",
    "    return(std, mean)"
   ]
  },
  {
   "cell_type": "code",
   "execution_count": 7,
   "metadata": {},
   "outputs": [],
   "source": [
    "def signal(date1, date2, std, mean, pair1, pair2):\n",
    "    df = pd.read_csv('cleanest_data_ever.csv', index_col = 'Date')\n",
    "    dta = df.loc[date1 : date2]\n",
    "    data = dta.divide(dta.loc[date1])\n",
    "    s1 = data[pair1]\n",
    "    s2 = data[pair2]\n",
    "    \n",
    "    s1 = sm.add_constant(s1)\n",
    "    results = sm.OLS(s2, s1).fit()\n",
    "    s1 = s1[pair1]\n",
    "    b = results.params[pair1]\n",
    "    assert(len(s1) == len(s2))\n",
    "    spread = s2 - b * s1\n",
    "    norm_spread = (spread - mean) / std\n",
    "    df1 = pd.DataFrame(index = s1.index, columns = ['Close', 'norm_spread'])\n",
    "    df1['Close'] = dta[pair1]\n",
    "    df1['norm_spread'] = norm_spread\n",
    "    df2 = pd.DataFrame(index = s2.index, columns = ['Close', 'norm_spread'])\n",
    "    df2['Close'] = dta[pair2]\n",
    "    df2['norm_spread'] = norm_spread\n",
    "    df1 = df1.reset_index()\n",
    "    df2 = df2.reset_index()\n",
    "    df1['Signal'] = pd.Series(np.zeros(len(df1)))\n",
    "    df1['Signal'][0] = 0\n",
    "    df2['Signal'] = pd.Series(np.zeros(len(df2)))\n",
    "    df2['Signal'][0] = 0\n",
    "    for x in range(1, len(df1)):\n",
    "        if df1['norm_spread'][x] > 2:\n",
    "            df1['Signal'][x] = 1\n",
    "            df2['Signal'][x] = -1\n",
    "        elif df1['norm_spread'][x] < -2:\n",
    "            df1['Signal'][x] = -1\n",
    "            df2['Signal'][x] = 1\n",
    "        elif df1['norm_spread'][x] == 0:\n",
    "            df1['Signal'][x] = 0\n",
    "            df2['Signal'][x] = 0\n",
    "        elif (df1['norm_spread'][x - 1]) / (df1['norm_spread'][x]) < 0:\n",
    "            df1['Signal'][x] = 0\n",
    "            df2['Signal'][x] = 0\n",
    "        else:\n",
    "            df1['Signal'][x] = df1['Signal'][x - 1]\n",
    "            df2['Signal'][x] = df2['Signal'][x - 1]\n",
    "    df1['Position'] = pd.Series(np.zeros(len(df1)))\n",
    "    df1['Position'] = df1['Signal'].diff()\n",
    "    df2['Position'] = pd.Series(np.zeros(len(df2)))\n",
    "    df2['Position'] = df2['Signal'].diff()\n",
    "    return(df1, df2)\n",
    "    "
   ]
  },
  {
   "cell_type": "code",
   "execution_count": 77,
   "metadata": {},
   "outputs": [],
   "source": [
    "def trading(dta):\n",
    "    dta['Total Assets'] = pd.Series(np.zeros(len(dta)))\n",
    "    dta['Holding'] = pd.Series(np.zeros(len(dta)))\n",
    "    dta['Employed Capital'] = pd.Series(np.zeros(len(dta)))\n",
    "    dta['Shorted Capital'] = pd.Series(np.zeros(len(dta)))\n",
    "    dta['Free Capital'] = pd.Series(np.zeros(len(dta)))\n",
    "    dta['Total Assets'][0] = 10000\n",
    "    dta['Holding'][0] = 0\n",
    "    dta['Employed Capital'][0] = 0\n",
    "    dta['Shorted Capital'][0] = 0\n",
    "    dta['Free Capital'][0] = 10000\n",
    "    shorted_cap = 0\n",
    "    for x in range(1, len(dta)):\n",
    "        if dta['Position'][x] == 1:\n",
    "            if dta['Holding'][x - 1] == 0:\n",
    "                dta['Holding'][x] = dta['Total Assets'][x - 1] // dta['Close'][x]\n",
    "                dta['Employed Capital'][x] = dta['Holding'][x] * dta['Close'][x]\n",
    "                dta['Free Capital'][x] = dta['Total Assets'][x -1] - dta['Employed Capital'][x]\n",
    "                dta['Total Assets'][x] = dta['Free Capital'][x] + dta['Employed Capital'][x]\n",
    "            else:\n",
    "                dta['Employed Capital'][x] = dta['Employed Capital'][x - 1]\n",
    "                profit_loss = (dta['Holding'][x - 1] * dta['Close'][x]) - shorted_cap\n",
    "                dta['Total Assets'][x] = dta['Free Capital'][x - 1] + dta['Employed Capital'][x] + profit_loss\n",
    "                dta['Free Capital'][x] = dta['Total Assets'][x]\n",
    "                dta['Holding'][x] = 0\n",
    "                dta['Shorted Capital'][x] = 0\n",
    "#                 print(profit_loss)\n",
    "        elif dta['Position'][x] == -1:\n",
    "            if dta['Holding'][x - 1] == 0:\n",
    "                dta['Holding'][x] = -(dta['Total Assets'][x - 1] // dta['Close'][x])\n",
    "                dta['Employed Capital'][x] = dta['Employed Capital'][x - 1]\n",
    "                dta['Free Capital'][x] = dta['Free Capital'][x - 1]\n",
    "                shorted_cap = dta['Holding'][x] * dta['Close'][x]\n",
    "#                 print(shorted_cap)\n",
    "                dta['Shorted Capital'][x] = dta['Holding'][x] * dta['Close'][x]\n",
    "                dta['Total Assets'][x] = dta['Free Capital'][x] + dta['Employed Capital'][x]\n",
    "            else:\n",
    "                dta['Shorted Capital'][x] = dta['Shorted Capital'][x - 1]\n",
    "                dta['Free Capital'][x] = dta['Free Capital'][x - 1]\n",
    "                dta['Employed Capital'][x] = 0\n",
    "                dta['Total Assets'][x] = dta['Free Capital'][x] + dta['Holding'][x - 1] * dta['Close'][x]\n",
    "        else:\n",
    "            dta['Holding'][x] = dta['Holding'][x - 1]\n",
    "            if dta['Holding'][x] > 0:\n",
    "                dta['Shorted Capital'][x] = dta['Shorted Capital'][x - 1]\n",
    "                dta['Free Capital'][x] = dta['Free Capital'][x - 1]\n",
    "                dta['Employed Capital'][x] = dta['Holding'][x] * dta['Close'][x]\n",
    "                dta['Total Assets'][x] = dta['Free Capital'][x] + dta['Employed Capital'][x]\n",
    "            elif dta['Holding'][x] < 0:\n",
    "                dta['Employed Capital'][x] = dta['Employed Capital'][x - 1]\n",
    "                dta['Free Capital'][x] = dta['Free Capital'][x - 1]\n",
    "                dta['Shorted Capital'][x] = dta['Holding'][x] * dta['Close'][x]\n",
    "                dta['Total Assets'][x] = dta['Free Capital'][x] + dta['Employed Capital'][x] \n",
    "            else:\n",
    "                dta['Free Capital'][x] = dta['Free Capital'][x - 1]\n",
    "                dta['Employed Capital'][x] = dta['Employed Capital'][x - 1]\n",
    "                dta['Shorted Capital'][x] = dta['Shorted Capital'][x - 1]\n",
    "                dta['Total Assets'][x] = dta['Total Assets'][x - 1]\n",
    "    if dta['Holding'][len(dta) - 1] > 0:\n",
    "        profit = (dta['Total Assets'][len(dta) - 1] / dta['Total Assets'][0] - 1) * 100\n",
    "    elif dta['Holding'][len(dta) - 1] < 0:\n",
    "        profit1 = dta['Shorted Capital'][len(dta) - 1] - shorted_cap\n",
    "        profit = ((profit1 + dta['Total Assets'][len(dta) - 1]) / dta['Total Assets'][0] - 1) * 100\n",
    "    else:\n",
    "        profit = (dta['Total Assets'][len(dta) - 1] / dta['Total Assets'][0] - 1) * 100\n",
    "    return(profit)"
   ]
  },
  {
   "cell_type": "code",
   "execution_count": 78,
   "metadata": {},
   "outputs": [],
   "source": [
    "def Coint_Trading(date1, date2, date3, date4, x): # date1, date2 formation period, date3, date4 trading period, x stocks\n",
    "    pairs = coint_pairs(date1, date2, x)\n",
    "    returns = []\n",
    "    for i in pairs:\n",
    "        pair1 = i[0]\n",
    "        pair2 = i[1]\n",
    "        std, mean = spread_stat(date1, date2, pair1, pair2)\n",
    "        df1, df2 = signal(date3, date4, std, mean, pair1, pair2)\n",
    "        pair1_r = trading(df1)\n",
    "        pair2_r = trading(df2)\n",
    "        average_r = (pair1_r + pair2_r) / 2\n",
    "        returns.append(average_r)\n",
    "    return(returns)"
   ]
  },
  {
   "cell_type": "code",
   "execution_count": 79,
   "metadata": {},
   "outputs": [],
   "source": [
    "def average(sequence): # input a list\n",
    "    sum_ = sum(sequence)\n",
    "    mean = sum_ / len(sequence)\n",
    "    return(mean)"
   ]
  },
  {
   "cell_type": "code",
   "execution_count": 80,
   "metadata": {},
   "outputs": [],
   "source": [
    "path = 'dates.csv' # monthly rotation\n",
    "dates = pd.read_csv(path)"
   ]
  },
  {
   "cell_type": "code",
   "execution_count": 81,
   "metadata": {},
   "outputs": [],
   "source": [
    "returns = pd.DataFrame(index = dates.index, columns = ['returns','date1','date2','date3','date4'])\n",
    "for i in dates.index[45:]:\n",
    "    date1 = dates.loc[i, 'date1']\n",
    "    date2 = dates.loc[i, 'date2']\n",
    "    date3 = dates.loc[i, 'date3']\n",
    "    date4 = dates.loc[i, 'date4']\n",
    "    seq = Coint_Trading(date1, date2, date3, date4, 20)\n",
    "    value = average(seq)\n",
    "    returns.loc[i, 'returns'] = value\n",
    "    returns.loc[i, 'date1'] = dates.loc[i, 'date1']\n",
    "    returns.loc[i, 'date2'] = dates.loc[i, 'date2']\n",
    "    returns.loc[i, 'date3'] = dates.loc[i, 'date3']\n",
    "    returns.loc[i, 'date4'] = dates.loc[i, 'date4']\n",
    "    "
   ]
  },
  {
   "cell_type": "code",
   "execution_count": 82,
   "metadata": {},
   "outputs": [],
   "source": [
    "returns.to_excel('top_20_pairs_returns_cointegration3.xlsx', index = True)"
   ]
  },
  {
   "cell_type": "code",
   "execution_count": 13,
   "metadata": {},
   "outputs": [],
   "source": [
    "date1 = dates.loc[45, 'date1'] \n",
    "date2 = dates.loc[45, 'date2'] \n",
    "date3 = dates.loc[45, 'date3'] \n",
    "date4 = dates.loc[45, 'date4']"
   ]
  },
  {
   "cell_type": "code",
   "execution_count": 14,
   "metadata": {},
   "outputs": [],
   "source": [
    "pairs = coint_pairs(date1, date2, 20)"
   ]
  },
  {
   "cell_type": "code",
   "execution_count": 15,
   "metadata": {},
   "outputs": [
    {
     "data": {
      "text/plain": [
       "[['BOKA.AS', 'OXUR.BR'],\n",
       " ['BAR.BR', 'SOF.BR'],\n",
       " ['AGS.BR', 'EXM.BR'],\n",
       " ['AGS.BR', 'RAND.AS'],\n",
       " ['BBED.AS', 'UCB.BR'],\n",
       " ['AGS.BR', 'VASTN.AS'],\n",
       " ['CFEB.BR', 'INGA.AS'],\n",
       " ['BBED.AS', 'TUB.BR'],\n",
       " ['ASML.AS', 'SOF.BR'],\n",
       " ['ASM.AS', 'EVS.BR'],\n",
       " ['BAMNB.AS', 'EXM.BR'],\n",
       " ['ASML.AS', 'DSM.AS'],\n",
       " ['ASM.AS', 'HEIJM.AS'],\n",
       " ['AGN.AS', 'OXUR.BR'],\n",
       " ['AALB.AS', 'TUB.BR'],\n",
       " ['BAR.BR', 'MELE.BR'],\n",
       " ['BOKA.AS', 'VASTN.AS'],\n",
       " ['AGN.AS', 'VASTN.AS'],\n",
       " ['CFEB.BR', 'PHARM.AS'],\n",
       " ['ASM.AS', 'PHIA.AS']]"
      ]
     },
     "execution_count": 15,
     "metadata": {},
     "output_type": "execute_result"
    }
   ],
   "source": [
    "pairs"
   ]
  },
  {
   "cell_type": "code",
   "execution_count": 76,
   "metadata": {},
   "outputs": [
    {
     "ename": "IndexError",
     "evalue": "list index out of range",
     "output_type": "error",
     "traceback": [
      "\u001b[1;31m---------------------------------------------------------------------------\u001b[0m",
      "\u001b[1;31mIndexError\u001b[0m                                Traceback (most recent call last)",
      "\u001b[1;32m<ipython-input-76-f6b0664076ef>\u001b[0m in \u001b[0;36m<module>\u001b[1;34m\u001b[0m\n\u001b[1;32m----> 1\u001b[1;33m \u001b[0mpair1\u001b[0m \u001b[1;33m=\u001b[0m \u001b[0mpairs\u001b[0m\u001b[1;33m[\u001b[0m\u001b[1;36m20\u001b[0m\u001b[1;33m]\u001b[0m\u001b[1;33m[\u001b[0m\u001b[1;36m0\u001b[0m\u001b[1;33m]\u001b[0m\u001b[1;33m\u001b[0m\u001b[1;33m\u001b[0m\u001b[0m\n\u001b[0m\u001b[0;32m      2\u001b[0m \u001b[0mpair2\u001b[0m \u001b[1;33m=\u001b[0m \u001b[0mpairs\u001b[0m\u001b[1;33m[\u001b[0m\u001b[1;36m20\u001b[0m\u001b[1;33m]\u001b[0m\u001b[1;33m[\u001b[0m\u001b[1;36m1\u001b[0m\u001b[1;33m]\u001b[0m\u001b[1;33m\u001b[0m\u001b[1;33m\u001b[0m\u001b[0m\n\u001b[0;32m      3\u001b[0m \u001b[1;33m\u001b[0m\u001b[0m\n\u001b[0;32m      4\u001b[0m \u001b[0mstd\u001b[0m\u001b[1;33m,\u001b[0m \u001b[0mmean\u001b[0m \u001b[1;33m=\u001b[0m \u001b[0mspread_stat\u001b[0m\u001b[1;33m(\u001b[0m\u001b[0mdate3\u001b[0m\u001b[1;33m,\u001b[0m \u001b[0mdate4\u001b[0m\u001b[1;33m,\u001b[0m \u001b[0mpair1\u001b[0m\u001b[1;33m,\u001b[0m \u001b[0mpair2\u001b[0m\u001b[1;33m)\u001b[0m\u001b[1;33m\u001b[0m\u001b[1;33m\u001b[0m\u001b[0m\n\u001b[0;32m      5\u001b[0m \u001b[0mdf1\u001b[0m\u001b[1;33m,\u001b[0m \u001b[0mdf2\u001b[0m \u001b[1;33m=\u001b[0m \u001b[0msignal\u001b[0m\u001b[1;33m(\u001b[0m\u001b[0mdate3\u001b[0m\u001b[1;33m,\u001b[0m \u001b[0mdate4\u001b[0m\u001b[1;33m,\u001b[0m \u001b[0mstd\u001b[0m\u001b[1;33m,\u001b[0m \u001b[0mmean\u001b[0m\u001b[1;33m,\u001b[0m \u001b[0mpair1\u001b[0m\u001b[1;33m,\u001b[0m \u001b[0mpair2\u001b[0m\u001b[1;33m)\u001b[0m\u001b[1;33m\u001b[0m\u001b[1;33m\u001b[0m\u001b[0m\n",
      "\u001b[1;31mIndexError\u001b[0m: list index out of range"
     ]
    }
   ],
   "source": [
    "pair1 = pairs[20][0]\n",
    "pair2 = pairs[20][1]\n",
    "\n",
    "std, mean = spread_stat(date3, date4, pair1, pair2)\n",
    "df1, df2 = signal(date3, date4, std, mean, pair1, pair2)"
   ]
  },
  {
   "cell_type": "code",
   "execution_count": 74,
   "metadata": {},
   "outputs": [],
   "source": [
    "r2 = trading(df2)"
   ]
  },
  {
   "cell_type": "code",
   "execution_count": 75,
   "metadata": {},
   "outputs": [],
   "source": [
    "r = trading(df1)"
   ]
  },
  {
   "cell_type": "code",
   "execution_count": 72,
   "metadata": {},
   "outputs": [],
   "source": [
    "df1.to_csv('df.csv')"
   ]
  },
  {
   "cell_type": "code",
   "execution_count": null,
   "metadata": {},
   "outputs": [],
   "source": [
    "df2.to_csv('dff.csv')"
   ]
  }
 ],
 "metadata": {
  "kernelspec": {
   "display_name": "Python 3",
   "language": "python",
   "name": "python3"
  },
  "language_info": {
   "codemirror_mode": {
    "name": "ipython",
    "version": 3
   },
   "file_extension": ".py",
   "mimetype": "text/x-python",
   "name": "python",
   "nbconvert_exporter": "python",
   "pygments_lexer": "ipython3",
   "version": "3.8.5"
  }
 },
 "nbformat": 4,
 "nbformat_minor": 4
}
